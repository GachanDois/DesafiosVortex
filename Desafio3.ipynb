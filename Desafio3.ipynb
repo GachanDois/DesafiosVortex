{
 "cells": [
  {
   "cell_type": "code",
   "execution_count": 17,
   "metadata": {},
   "outputs": [],
   "source": [
    "import itertools\n",
    "def naipe(carta):\n",
    "    return carta[-1]\n",
    "\n",
    "def valor(carta):\n",
    "    #ás é a carta de maior valor\n",
    "  if carta[0] == \"A\":\n",
    "    return 14\n",
    "  if carta[0] == \"J\":\n",
    "    return 11\n",
    "  if carta[0] == \"Q\":\n",
    "    return 12\n",
    "  if carta[0] == \"K\":\n",
    "    return 13\n",
    "  return int(carta[0:-1])\n",
    "\n",
    "\n",
    "def make_deck():\n",
    "  deck = []\n",
    "  for naipe in (\"C\", \"E\", \"O\", \"P\"):\n",
    "    for valor in range(2, 15):\n",
    "      if valor < 11:\n",
    "        valor_str = str(valor)\n",
    "      else:\n",
    "        valor_str = (\"J\", \"Q\", \"K\", \"A\")[valor - 11]\n",
    "      deck.append(valor_str + naipe)\n",
    "  return deck"
   ]
  },
  {
   "cell_type": "code",
   "execution_count": 2,
   "metadata": {},
   "outputs": [],
   "source": [
    "import random\n",
    "\n",
    "def deck_embaralhado():\n",
    "  deck = make_deck()\n",
    "  random.shuffle(deck)\n",
    "  return deck\n"
   ]
  },
  {
   "cell_type": "code",
   "execution_count": 3,
   "metadata": {},
   "outputs": [],
   "source": [
    "def hand_dist(cartas):\n",
    "  #dicionario de 1 ate 14 de 0 e dps conta quantas cartas dos valores de 1 a 14 poossuem na mão\n",
    "  dist = {i:0 for i in range(1, 15)}\n",
    "  for carta in cartas:\n",
    "    dist[valor(carta)] += 1\n",
    "  dist[1] = dist[14]\n",
    "  return dist\n"
   ]
  },
  {
   "cell_type": "code",
   "execution_count": 4,
   "metadata": {},
   "outputs": [],
   "source": [
    "def flush(cartas):\n",
    "    return all([naipe(card) == naipe(cartas[0]) for card in cartas[1:]])"
   ]
  },
  {
   "cell_type": "code",
   "execution_count": 5,
   "metadata": {},
   "outputs": [],
   "source": [
    "def straight(cartas):\n",
    "    dist = hand_dist(cartas)\n",
    "    for valor in range(1,11):\n",
    "        if all([dist[valor + k ]] ==1 for k in range(5)):\n",
    "            return valor + 4\n",
    "    return None"
   ]
  },
  {
   "cell_type": "code",
   "execution_count": 6,
   "metadata": {},
   "outputs": [],
   "source": [
    "def find_equals(cartas,qtd, cond = None):\n",
    "    dist = hand_dist(cartas)\n",
    "    for valor in range(2,15):\n",
    "        if valor == cond:\n",
    "            continue\n",
    "        if dist[valor] == qtd:\n",
    "            return valor\n",
    "    return None\n"
   ]
  },
  {
   "cell_type": "code",
   "execution_count": 7,
   "metadata": {},
   "outputs": [],
   "source": [
    "def carta_alta(cartas):\n",
    "    dist = hand_dist(cartas)\n",
    "    for valor in range(1,15):\n",
    "        if dist[valor] == 1:\n",
    "            aux = valor\n",
    "    return(aux)"
   ]
  },
  {
   "cell_type": "code",
   "execution_count": 8,
   "metadata": {},
   "outputs": [],
   "source": [
    "combinacoes = [\"carta alta\", \"par\", \"dois pares\", \"trio\", \"straight\", \"flush\", \"full house\",\n",
    "\"quadra\", \"straight flush\", \"royal flush\"]"
   ]
  },
  {
   "cell_type": "code",
   "execution_count": 71,
   "metadata": {},
   "outputs": [],
   "source": [
    "\n",
    "def rank(cartas):\n",
    "  #royal straight flush\n",
    "  if straight(cartas)==14 and flush(cartas):\n",
    "    return 9\n",
    "  #straight flush\n",
    "  if straight(cartas)is not None and flush(cartas):\n",
    "    return 8\n",
    "  #quadra\n",
    "  if find_equals(cartas, 4) is not None:\n",
    "    return 7\n",
    "  #full house\n",
    "  if find_equals(cartas, 3) is not None and find_equals(cartas, 2) is not None:\n",
    "    return 6\n",
    "  #flush\n",
    "  if flush(cartas):\n",
    "    return 5\n",
    "  #straight\n",
    "  if straight(cartas) is not None:\n",
    "    return 4\n",
    "  #trinca\n",
    "  if find_equals(cartas, 3) is not None:\n",
    "    return 3\n",
    "  #dois pares \n",
    "  par1 = find_equals(cartas, 2)\n",
    "  if par1 is not None:\n",
    "    if find_equals(cartas, 2, cond=par1) is not None:\n",
    "      return 2\n",
    "    #par\n",
    "    return 1\n",
    "  #carta alta\n",
    "  return 0"
   ]
  },
  {
   "cell_type": "code",
   "execution_count": 72,
   "metadata": {},
   "outputs": [],
   "source": [
    "def comparador(robo1, robo2):\n",
    "  r1 = rank(robo1)\n",
    "  r2 = rank(robo2)\n",
    "  if r1 < r2:\n",
    "    return -1\n",
    "  if r1 > r2:\n",
    "    return 1\n",
    "  if r1 == 0 and r2 == 0:\n",
    "    if carta_alta(robo1) < carta_alta(robo2):\n",
    "      return -1\n",
    "    if carta_alta(robo1) > carta_alta(robo2):\n",
    "      return 1\n",
    "    if carta_alta(robo1) == carta_alta(robo2):\n",
    "      return 0 \n",
    "      \n",
    "  return 0\n",
    "\n"
   ]
  },
  {
   "cell_type": "code",
   "execution_count": 73,
   "metadata": {},
   "outputs": [],
   "source": [
    "def melhor_mao(cartas):\n",
    "    return max(itertools.combinations(cartas, 5), key=rank)    "
   ]
  },
  {
   "cell_type": "code",
   "execution_count": 74,
   "metadata": {},
   "outputs": [],
   "source": [
    "def deal(deck, n):\n",
    "  mao = deck[0:n]\n",
    "  del deck[0:n]\n",
    "  return mao"
   ]
  },
  {
   "cell_type": "code",
   "execution_count": 75,
   "metadata": {},
   "outputs": [],
   "source": [
    "deck = deck_embaralhado()"
   ]
  },
  {
   "cell_type": "code",
   "execution_count": 76,
   "metadata": {},
   "outputs": [],
   "source": [
    "mesa = deal(deck,5)\n",
    "robo1 = deal(deck,2)\n",
    "robo2 = deal(deck,2)\n",
    "\n",
    "mao1 = mesa + robo1\n",
    "mao2 = mesa + robo2\n",
    "\n",
    "final1 = melhor_mao(mao1)\n",
    "final2 = melhor_mao(mao2)"
   ]
  },
  {
   "cell_type": "code",
   "execution_count": 77,
   "metadata": {},
   "outputs": [],
   "source": [
    "def show_comparador(robo1, robo2):\n",
    "  res = comparador(robo1, robo2)\n",
    "  result = (\"perdeu\", \"empatou\", \"venceu\")[res + 1]\n",
    "  r1 = rank(robo1)\n",
    "  r2 = rank(robo2)\n",
    "  print(f'Robô 1: {combinacoes[r1]} {robo1}, Robô 2: {combinacoes[r2]} {robo2}')\n",
    "\n",
    "  if result == \"venceu\":\n",
    "    return print('Robô 1 Venceu!')\n",
    "  if result == \"perdeu\":\n",
    "    return print('Robô 2 Venceu!')\n",
    "  return print('Empatou!')\n"
   ]
  },
  {
   "cell_type": "code",
   "execution_count": 78,
   "metadata": {},
   "outputs": [
    {
     "name": "stdout",
     "output_type": "stream",
     "text": [
      "Robô 1: par ('QE', '10C', 'AE', '3C', 'QP'), Robô 2: full house ('QE', 'AE', 'QP', 'QO', 'AP')\n",
      "Robô 2 Venceu!\n"
     ]
    }
   ],
   "source": [
    "show_comparador(final1,final2)"
   ]
  },
  {
   "cell_type": "code",
   "execution_count": null,
   "metadata": {},
   "outputs": [],
   "source": []
  }
 ],
 "metadata": {
  "kernelspec": {
   "display_name": "Python 3.8.12 ('Python3.8')",
   "language": "python",
   "name": "python3"
  },
  "language_info": {
   "codemirror_mode": {
    "name": "ipython",
    "version": 3
   },
   "file_extension": ".py",
   "mimetype": "text/x-python",
   "name": "python",
   "nbconvert_exporter": "python",
   "pygments_lexer": "ipython3",
   "version": "3.8.12"
  },
  "orig_nbformat": 4,
  "vscode": {
   "interpreter": {
    "hash": "c90f76360b09ad76695ee9e6450b9f1aa36c1ed15694be13cbea30fdfcf8c98b"
   }
  }
 },
 "nbformat": 4,
 "nbformat_minor": 2
}
