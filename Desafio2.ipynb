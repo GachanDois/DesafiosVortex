{
 "cells": [
  {
   "cell_type": "code",
   "execution_count": 62,
   "metadata": {},
   "outputs": [],
   "source": [
    "import random\n",
    "\n",
    "str_entrada = (input(\"Digite o tamanho da constelação seguido das estrelas que você quer verificar se possuem ligações\"))\n",
    "\n",
    "list = str_entrada.split()\n",
    "\n",
    "entrada = [int(i) for i in list]\n",
    "\n",
    "\n",
    "def generate_matriz():\n",
    "   m = []\n",
    "   for i in range(entrada[0]):\n",
    "      linha = [] \n",
    "      for j in range(entrada[0]):\n",
    "         linha.append(0)\n",
    "      m.append(linha)\n",
    "\n",
    "   for i in range(entrada[0]):\n",
    "      a = [] \n",
    "      for j in range(entrada[0]):\n",
    "          if i == j:\n",
    "              continue\n",
    "          else:\n",
    "            value = random.choices(range(0,2))[0]\n",
    "            m[i][j] = value\n",
    "            m[j][i] = value\n",
    "   return m\n",
    "\n",
    "\n",
    "\n"
   ]
  },
  {
   "cell_type": "code",
   "execution_count": 63,
   "metadata": {},
   "outputs": [
    {
     "name": "stdout",
     "output_type": "stream",
     "text": [
      "[0, 0, 0, 1, 0, 0, 1]\n",
      "[0, 0, 1, 1, 0, 0, 0]\n",
      "[0, 1, 0, 0, 1, 1, 1]\n",
      "[1, 1, 0, 0, 0, 0, 0]\n",
      "[0, 0, 1, 0, 0, 0, 0]\n",
      "[0, 0, 1, 0, 0, 0, 1]\n",
      "[1, 0, 1, 0, 0, 1, 0]\n",
      "não tem ligação\n"
     ]
    }
   ],
   "source": [
    "\n",
    "if entrada[0] >= 4 and entrada[0] <=8:\n",
    "    constelacao = generate_matriz()\n",
    "else:\n",
    "    print(\"Constelação não pode ser gerada\")\n",
    "\n",
    "estrela1 = entrada[1]\n",
    "estrela2 = entrada[2]\n",
    "\n",
    "for e in range(0,entrada[0]):\n",
    "    aux=0\n",
    "    print(constelacao[e])\n",
    "    for l in constelacao[estrela1]:\n",
    "        aux +=1\n",
    "        if l == 1 and aux == estrela2+1: \n",
    "            ligacao = True\n",
    "            aux= 0\n",
    "            break\n",
    "        else:\n",
    "            ligacao = False\n",
    "\n",
    "\n",
    "\n",
    "if ligacao == True:\n",
    "    print(\"tem ligação\")\n",
    "else:\n",
    "    print(\"não tem ligação\")\n",
    "\n"
   ]
  },
  {
   "cell_type": "code",
   "execution_count": null,
   "metadata": {},
   "outputs": [],
   "source": []
  },
  {
   "cell_type": "code",
   "execution_count": null,
   "metadata": {},
   "outputs": [],
   "source": []
  }
 ],
 "metadata": {
  "kernelspec": {
   "display_name": "Python 3.8.12 ('Python3.8')",
   "language": "python",
   "name": "python3"
  },
  "language_info": {
   "codemirror_mode": {
    "name": "ipython",
    "version": 3
   },
   "file_extension": ".py",
   "mimetype": "text/x-python",
   "name": "python",
   "nbconvert_exporter": "python",
   "pygments_lexer": "ipython3",
   "version": "3.8.12"
  },
  "orig_nbformat": 4,
  "vscode": {
   "interpreter": {
    "hash": "c90f76360b09ad76695ee9e6450b9f1aa36c1ed15694be13cbea30fdfcf8c98b"
   }
  }
 },
 "nbformat": 4,
 "nbformat_minor": 2
}
