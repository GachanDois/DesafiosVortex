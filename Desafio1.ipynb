{
 "cells": [
  {
   "cell_type": "code",
   "execution_count": 4,
   "metadata": {},
   "outputs": [
    {
     "name": "stdout",
     "output_type": "stream",
     "text": [
      "15\n"
     ]
    }
   ],
   "source": [
    "def romano(x):\n",
    "    valor_romano = {'I': 1, 'V': 5, 'X': 10, 'L': 50, 'C': 100, 'D': 500, 'M': 1000}\n",
    "    aux = 0 \n",
    "    for i in range(len(x)):\n",
    "\n",
    "        if i+1<len(x) and valor_romano[x[i+1]] > valor_romano[x[i]]: \n",
    "            aux -= valor_romano[x[i]]\n",
    "        else:\n",
    "            aux += valor_romano[x[i]]\n",
    "    return(aux)\n",
    "\n",
    "a = input()\n",
    "print(romano(a))\n"
   ]
  }
 ],
 "metadata": {
  "kernelspec": {
   "display_name": "Python 3.8.12 ('Python3.8')",
   "language": "python",
   "name": "python3"
  },
  "language_info": {
   "codemirror_mode": {
    "name": "ipython",
    "version": 3
   },
   "file_extension": ".py",
   "mimetype": "text/x-python",
   "name": "python",
   "nbconvert_exporter": "python",
   "pygments_lexer": "ipython3",
   "version": "3.8.12"
  },
  "orig_nbformat": 4,
  "vscode": {
   "interpreter": {
    "hash": "c90f76360b09ad76695ee9e6450b9f1aa36c1ed15694be13cbea30fdfcf8c98b"
   }
  }
 },
 "nbformat": 4,
 "nbformat_minor": 2
}
